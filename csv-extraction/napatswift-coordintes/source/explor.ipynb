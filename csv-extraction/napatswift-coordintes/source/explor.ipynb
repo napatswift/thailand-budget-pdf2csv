{
 "cells": [
  {
   "cell_type": "code",
   "execution_count": 2,
   "metadata": {},
   "outputs": [],
   "source": [
    "import json\n",
    "import numpy as np\n",
    "import pythainlp\n",
    "import os\n",
    "import pandas as pd"
   ]
  },
  {
   "cell_type": "code",
   "execution_count": 3,
   "metadata": {},
   "outputs": [],
   "source": [
    "file_names = [f for f in os.listdir('../output') if f.endswith('raw-entry.json')]\n",
    "file_names.sort(key=lambda f: float(f.split('-')[2].replace('(', '.').replace(')', '')))"
   ]
  },
  {
   "cell_type": "code",
   "execution_count": 4,
   "metadata": {},
   "outputs": [],
   "source": [
    "raw_entl = []\n",
    "for file_name in file_names:\n",
    "  with open(f'../output/{file_name}', 'r') as f:\n",
    "    j_in = json.load(f)\n",
    "    for doc_n in j_in:\n",
    "      for ii in j_in[doc_n]:\n",
    "        raw_entl.append(j_in[doc_n][ii])"
   ]
  },
  {
   "cell_type": "code",
   "execution_count": 5,
   "metadata": {},
   "outputs": [],
   "source": [
    "text = []\n",
    "words = []\n",
    "label = []\n",
    "label_dict = {}\n",
    "\n",
    "for ent in raw_entl:\n",
    "  for page in ent['page']:\n",
    "    for bullet in ent['page'][page]:\n",
    "      _t = []\n",
    "      _b = []\n",
    "      for block in bullet['block']:\n",
    "\n",
    "        if block['label'] not in label_dict.keys():\n",
    "          label_dict.update({block['label']: len(label_dict.keys())})\n",
    "\n",
    "        if block['label'] == 'NOTMATCH': \n",
    "          tokens = pythainlp.word_tokenize(block['text'])\n",
    "          for token in tokens:\n",
    "            _t.append(token)\n",
    "            _b.append(label_dict[block['label']])\n",
    "        else:\n",
    "          _t.append(block['text'])\n",
    "          _b.append(label_dict[block['label']])\n",
    "\n",
    "      # _t = (_t+['#']*20)[:20] #max to be 20\n",
    "      # _b = (_b+[label_dict['NOTMATCH']]*20)[:20]\n",
    "      if len(_t) < 7: continue\n",
    "      text.append(_t); label.append(_b)\n"
   ]
  },
  {
   "cell_type": "code",
   "execution_count": 5,
   "metadata": {},
   "outputs": [],
   "source": [
    "pd.DataFrame([(t+['#']*8)[:15] for t in text]).to_csv('./output/new-line_text.csv', index=False)\n",
    "pd.DataFrame([(t+[-1]*8)[:15] for t in label]).to_csv('./output/new-line_label.csv', index=False)"
   ]
  },
  {
   "cell_type": "code",
   "execution_count": 6,
   "metadata": {},
   "outputs": [],
   "source": [
    "# from pythainlp import word_vector\n",
    "# model = word_vector.get_model()\n",
    "# thai2dict = {}\n",
    "# for word in model.index_to_key:\n",
    "#     thai2dict[word] = model[word]\n",
    "# thai2vec = pd.DataFrame.from_dict(thai2dict,orient='index')"
   ]
  },
  {
   "cell_type": "code",
   "execution_count": 20,
   "metadata": {},
   "outputs": [],
   "source": [
    "line_text = []\n",
    "line_lable = []\n",
    "for ti in range(len(text)):\n",
    "  tx = text[ti][:]+['#']*8\n",
    "  tl = label[ti][:]+['#']*8\n",
    "  if len(tx) > 25:\n",
    "    if tx[10] != 'บาท':\n",
    "      line_text.append(tx[10:30])\n",
    "      line_lable.append(tl[10:30])\n",
    "    else:\n",
    "      line_text.append(tx[11:31])\n",
    "      line_lable.append(tl[11:31])"
   ]
  },
  {
   "cell_type": "code",
   "execution_count": 21,
   "metadata": {},
   "outputs": [],
   "source": [
    "pd.DataFrame(line_text).to_csv('./output/line_text.csv', index=False)\n",
    "pd.DataFrame(line_lable).to_csv('./output/line_label.csv', index=False)"
   ]
  },
  {
   "cell_type": "code",
   "execution_count": 15,
   "metadata": {},
   "outputs": [
    {
     "data": {
      "text/plain": [
       "[]"
      ]
     },
     "execution_count": 15,
     "metadata": {},
     "output_type": "execute_result"
    }
   ],
   "source": [
    "line_text"
   ]
  },
  {
   "cell_type": "code",
   "execution_count": null,
   "metadata": {},
   "outputs": [],
   "source": []
  }
 ],
 "metadata": {
  "interpreter": {
   "hash": "06a1f1a44851178a47cec35640b473cf7ad372c57da1cea48f655073264bf03f"
  },
  "kernelspec": {
   "display_name": "Python 3.9.7 ('base')",
   "language": "python",
   "name": "python3"
  },
  "language_info": {
   "codemirror_mode": {
    "name": "ipython",
    "version": 3
   },
   "file_extension": ".py",
   "mimetype": "text/x-python",
   "name": "python",
   "nbconvert_exporter": "python",
   "pygments_lexer": "ipython3",
   "version": "3.9.7"
  },
  "orig_nbformat": 4
 },
 "nbformat": 4,
 "nbformat_minor": 2
}
